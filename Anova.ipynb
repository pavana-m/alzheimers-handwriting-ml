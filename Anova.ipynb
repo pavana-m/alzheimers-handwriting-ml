{
 "cells": [
  {
   "cell_type": "code",
   "execution_count": 19,
   "id": "d267e6f4",
   "metadata": {},
   "outputs": [],
   "source": [
    "import warnings\n",
    "warnings.filterwarnings('ignore')"
   ]
  },
  {
   "cell_type": "code",
   "execution_count": 20,
   "id": "e7f1dbaa",
   "metadata": {},
   "outputs": [],
   "source": [
    "import numpy as np\n",
    "import pandas as pd\n",
    "import seaborn as sns\n",
    "import matplotlib.pyplot as plt"
   ]
  },
  {
   "cell_type": "code",
   "execution_count": 3,
   "id": "4f9d0fef",
   "metadata": {},
   "outputs": [
    {
     "data": {
      "text/html": [
       "<div>\n",
       "<style scoped>\n",
       "    .dataframe tbody tr th:only-of-type {\n",
       "        vertical-align: middle;\n",
       "    }\n",
       "\n",
       "    .dataframe tbody tr th {\n",
       "        vertical-align: top;\n",
       "    }\n",
       "\n",
       "    .dataframe thead th {\n",
       "        text-align: right;\n",
       "    }\n",
       "</style>\n",
       "<table border=\"1\" class=\"dataframe\">\n",
       "  <thead>\n",
       "    <tr style=\"text-align: right;\">\n",
       "      <th></th>\n",
       "      <th>ID</th>\n",
       "      <th>air_time1</th>\n",
       "      <th>disp_index1</th>\n",
       "      <th>gmrt_in_air1</th>\n",
       "      <th>gmrt_on_paper1</th>\n",
       "      <th>max_x_extension1</th>\n",
       "      <th>max_y_extension1</th>\n",
       "      <th>mean_acc_in_air1</th>\n",
       "      <th>mean_acc_on_paper1</th>\n",
       "      <th>mean_gmrt1</th>\n",
       "      <th>...</th>\n",
       "      <th>mean_jerk_in_air25</th>\n",
       "      <th>mean_jerk_on_paper25</th>\n",
       "      <th>mean_speed_in_air25</th>\n",
       "      <th>mean_speed_on_paper25</th>\n",
       "      <th>num_of_pendown25</th>\n",
       "      <th>paper_time25</th>\n",
       "      <th>pressure_mean25</th>\n",
       "      <th>pressure_var25</th>\n",
       "      <th>total_time25</th>\n",
       "      <th>class</th>\n",
       "    </tr>\n",
       "  </thead>\n",
       "  <tbody>\n",
       "    <tr>\n",
       "      <th>0</th>\n",
       "      <td>id_1</td>\n",
       "      <td>5160</td>\n",
       "      <td>0.000013</td>\n",
       "      <td>120.804174</td>\n",
       "      <td>86.853334</td>\n",
       "      <td>957</td>\n",
       "      <td>6601</td>\n",
       "      <td>0.361800</td>\n",
       "      <td>0.217459</td>\n",
       "      <td>103.828754</td>\n",
       "      <td>...</td>\n",
       "      <td>0.141434</td>\n",
       "      <td>0.024471</td>\n",
       "      <td>5.596487</td>\n",
       "      <td>3.184589</td>\n",
       "      <td>71</td>\n",
       "      <td>40120</td>\n",
       "      <td>1749.278166</td>\n",
       "      <td>296102.7676</td>\n",
       "      <td>144605</td>\n",
       "      <td>P</td>\n",
       "    </tr>\n",
       "    <tr>\n",
       "      <th>1</th>\n",
       "      <td>id_2</td>\n",
       "      <td>51980</td>\n",
       "      <td>0.000016</td>\n",
       "      <td>115.318238</td>\n",
       "      <td>83.448681</td>\n",
       "      <td>1694</td>\n",
       "      <td>6998</td>\n",
       "      <td>0.272513</td>\n",
       "      <td>0.144880</td>\n",
       "      <td>99.383459</td>\n",
       "      <td>...</td>\n",
       "      <td>0.049663</td>\n",
       "      <td>0.018368</td>\n",
       "      <td>1.665973</td>\n",
       "      <td>0.950249</td>\n",
       "      <td>129</td>\n",
       "      <td>126700</td>\n",
       "      <td>1504.768272</td>\n",
       "      <td>278744.2850</td>\n",
       "      <td>298640</td>\n",
       "      <td>P</td>\n",
       "    </tr>\n",
       "    <tr>\n",
       "      <th>2</th>\n",
       "      <td>id_3</td>\n",
       "      <td>2600</td>\n",
       "      <td>0.000010</td>\n",
       "      <td>229.933997</td>\n",
       "      <td>172.761858</td>\n",
       "      <td>2333</td>\n",
       "      <td>5802</td>\n",
       "      <td>0.387020</td>\n",
       "      <td>0.181342</td>\n",
       "      <td>201.347928</td>\n",
       "      <td>...</td>\n",
       "      <td>0.178194</td>\n",
       "      <td>0.017174</td>\n",
       "      <td>4.000781</td>\n",
       "      <td>2.392521</td>\n",
       "      <td>74</td>\n",
       "      <td>45480</td>\n",
       "      <td>1431.443492</td>\n",
       "      <td>144411.7055</td>\n",
       "      <td>79025</td>\n",
       "      <td>P</td>\n",
       "    </tr>\n",
       "    <tr>\n",
       "      <th>3</th>\n",
       "      <td>id_4</td>\n",
       "      <td>2130</td>\n",
       "      <td>0.000010</td>\n",
       "      <td>369.403342</td>\n",
       "      <td>183.193104</td>\n",
       "      <td>1756</td>\n",
       "      <td>8159</td>\n",
       "      <td>0.556879</td>\n",
       "      <td>0.164502</td>\n",
       "      <td>276.298223</td>\n",
       "      <td>...</td>\n",
       "      <td>0.113905</td>\n",
       "      <td>0.019860</td>\n",
       "      <td>4.206746</td>\n",
       "      <td>1.613522</td>\n",
       "      <td>123</td>\n",
       "      <td>67945</td>\n",
       "      <td>1465.843329</td>\n",
       "      <td>230184.7154</td>\n",
       "      <td>181220</td>\n",
       "      <td>P</td>\n",
       "    </tr>\n",
       "    <tr>\n",
       "      <th>4</th>\n",
       "      <td>id_5</td>\n",
       "      <td>2310</td>\n",
       "      <td>0.000007</td>\n",
       "      <td>257.997131</td>\n",
       "      <td>111.275889</td>\n",
       "      <td>987</td>\n",
       "      <td>4732</td>\n",
       "      <td>0.266077</td>\n",
       "      <td>0.145104</td>\n",
       "      <td>184.636510</td>\n",
       "      <td>...</td>\n",
       "      <td>0.121782</td>\n",
       "      <td>0.020872</td>\n",
       "      <td>3.319036</td>\n",
       "      <td>1.680629</td>\n",
       "      <td>92</td>\n",
       "      <td>37285</td>\n",
       "      <td>1841.702561</td>\n",
       "      <td>158290.0255</td>\n",
       "      <td>72575</td>\n",
       "      <td>P</td>\n",
       "    </tr>\n",
       "  </tbody>\n",
       "</table>\n",
       "<p>5 rows × 452 columns</p>\n",
       "</div>"
      ],
      "text/plain": [
       "     ID  air_time1  disp_index1  gmrt_in_air1  gmrt_on_paper1  \\\n",
       "0  id_1       5160     0.000013    120.804174       86.853334   \n",
       "1  id_2      51980     0.000016    115.318238       83.448681   \n",
       "2  id_3       2600     0.000010    229.933997      172.761858   \n",
       "3  id_4       2130     0.000010    369.403342      183.193104   \n",
       "4  id_5       2310     0.000007    257.997131      111.275889   \n",
       "\n",
       "   max_x_extension1  max_y_extension1  mean_acc_in_air1  mean_acc_on_paper1  \\\n",
       "0               957              6601          0.361800            0.217459   \n",
       "1              1694              6998          0.272513            0.144880   \n",
       "2              2333              5802          0.387020            0.181342   \n",
       "3              1756              8159          0.556879            0.164502   \n",
       "4               987              4732          0.266077            0.145104   \n",
       "\n",
       "   mean_gmrt1  ...  mean_jerk_in_air25  mean_jerk_on_paper25  \\\n",
       "0  103.828754  ...            0.141434              0.024471   \n",
       "1   99.383459  ...            0.049663              0.018368   \n",
       "2  201.347928  ...            0.178194              0.017174   \n",
       "3  276.298223  ...            0.113905              0.019860   \n",
       "4  184.636510  ...            0.121782              0.020872   \n",
       "\n",
       "   mean_speed_in_air25  mean_speed_on_paper25  num_of_pendown25  paper_time25  \\\n",
       "0             5.596487               3.184589                71         40120   \n",
       "1             1.665973               0.950249               129        126700   \n",
       "2             4.000781               2.392521                74         45480   \n",
       "3             4.206746               1.613522               123         67945   \n",
       "4             3.319036               1.680629                92         37285   \n",
       "\n",
       "   pressure_mean25  pressure_var25  total_time25  class  \n",
       "0      1749.278166     296102.7676        144605      P  \n",
       "1      1504.768272     278744.2850        298640      P  \n",
       "2      1431.443492     144411.7055         79025      P  \n",
       "3      1465.843329     230184.7154        181220      P  \n",
       "4      1841.702561     158290.0255         72575      P  \n",
       "\n",
       "[5 rows x 452 columns]"
      ]
     },
     "execution_count": 3,
     "metadata": {},
     "output_type": "execute_result"
    }
   ],
   "source": [
    "df = pd.read_csv('DARWIN/DARWIN.csv')\n",
    "df.head()"
   ]
  },
  {
   "cell_type": "code",
   "execution_count": 4,
   "id": "4203bd06",
   "metadata": {},
   "outputs": [
    {
     "data": {
      "text/plain": [
       "Index(['ID', 'air_time1', 'disp_index1', 'gmrt_in_air1', 'gmrt_on_paper1',\n",
       "       'max_x_extension1', 'max_y_extension1', 'mean_acc_in_air1',\n",
       "       'mean_acc_on_paper1', 'mean_gmrt1',\n",
       "       ...\n",
       "       'mean_jerk_in_air25', 'mean_jerk_on_paper25', 'mean_speed_in_air25',\n",
       "       'mean_speed_on_paper25', 'num_of_pendown25', 'paper_time25',\n",
       "       'pressure_mean25', 'pressure_var25', 'total_time25', 'class'],\n",
       "      dtype='object', length=452)"
      ]
     },
     "execution_count": 4,
     "metadata": {},
     "output_type": "execute_result"
    }
   ],
   "source": [
    "df.columns"
   ]
  },
  {
   "cell_type": "code",
   "execution_count": 6,
   "id": "f5f513e5",
   "metadata": {},
   "outputs": [],
   "source": [
    "del df['ID']"
   ]
  },
  {
   "cell_type": "code",
   "execution_count": 7,
   "id": "784459e7",
   "metadata": {},
   "outputs": [
    {
     "name": "stdout",
     "output_type": "stream",
     "text": [
      "<class 'pandas.core.frame.DataFrame'>\n",
      "RangeIndex: 174 entries, 0 to 173\n",
      "Columns: 451 entries, air_time1 to class\n",
      "dtypes: float64(300), int64(150), object(1)\n",
      "memory usage: 613.2+ KB\n"
     ]
    }
   ],
   "source": [
    "df.info()"
   ]
  },
  {
   "cell_type": "code",
   "execution_count": 8,
   "id": "67da91fa",
   "metadata": {},
   "outputs": [
    {
     "data": {
      "text/plain": [
       "air_time1           0\n",
       "disp_index1         0\n",
       "gmrt_in_air1        0\n",
       "gmrt_on_paper1      0\n",
       "max_x_extension1    0\n",
       "                   ..\n",
       "paper_time25        0\n",
       "pressure_mean25     0\n",
       "pressure_var25      0\n",
       "total_time25        0\n",
       "class               0\n",
       "Length: 451, dtype: int64"
      ]
     },
     "execution_count": 8,
     "metadata": {},
     "output_type": "execute_result"
    }
   ],
   "source": [
    "df.isnull().sum()"
   ]
  },
  {
   "cell_type": "code",
   "execution_count": 10,
   "id": "13dffaba",
   "metadata": {},
   "outputs": [
    {
     "data": {
      "image/png": "[encoded data removed]",
      "text/plain": [
       "<Figure size 640x480 with 1 Axes>"
      ]
     },
     "metadata": {},
     "output_type": "display_data"
    }
   ],
   "source": [
    "df['class'].value_counts().plot(kind='bar');"
   ]
  },
  {
   "cell_type": "code",
   "execution_count": 11,
   "id": "1b887dd2",
   "metadata": {},
   "outputs": [],
   "source": [
    "X = df.drop([\"class\"],axis =1)\n",
    "y = df[\"class\"]"
   ]
  },
  {
   "cell_type": "markdown",
   "id": "edfd4fde",
   "metadata": {},
   "source": [
    "# Anova FS"
   ]
  },
  {
   "cell_type": "code",
   "execution_count": 17,
   "id": "975056d7",
   "metadata": {},
   "outputs": [
    {
     "data": {
      "text/plain": [
       "(174, 20)"
      ]
     },
     "execution_count": 17,
     "metadata": {},
     "output_type": "execute_result"
    }
   ],
   "source": [
    "from sklearn.feature_selection import SelectKBest, SelectPercentile, mutual_info_classif\n",
    "\n",
    "selector = SelectKBest(mutual_info_classif, k=20)\n",
    "X_reduced = selector.fit_transform(X, y)\n",
    "X_reduced.shape"
   ]
  },
  {
   "cell_type": "code",
   "execution_count": 18,
   "id": "eeb10aaf",
   "metadata": {},
   "outputs": [
    {
     "data": {
      "text/plain": [
       "['total_time9',\n",
       " 'gmrt_on_paper10',\n",
       " 'mean_speed_on_paper10',\n",
       " 'paper_time11',\n",
       " 'mean_gmrt14',\n",
       " 'total_time15',\n",
       " 'air_time17',\n",
       " 'mean_jerk_in_air17',\n",
       " 'total_time17',\n",
       " 'air_time19',\n",
       " 'max_x_extension19',\n",
       " 'mean_speed_on_paper19',\n",
       " 'num_of_pendown19',\n",
       " 'pressure_mean19',\n",
       " 'total_time19',\n",
       " 'air_time22',\n",
       " 'air_time23',\n",
       " 'paper_time23',\n",
       " 'total_time23',\n",
       " 'total_time25']"
      ]
     },
     "execution_count": 18,
     "metadata": {},
     "output_type": "execute_result"
    }
   ],
   "source": [
    "cols = selector.get_support(indices=True)\n",
    "selected_columns = X.iloc[:,cols].columns.tolist()\n",
    "selected_columns"
   ]
  },
  {
   "cell_type": "code",
   "execution_count": 19,
   "id": "5d97aaca",
   "metadata": {},
   "outputs": [],
   "source": [
    "df = df[['total_time9',\n",
    "         'gmrt_on_paper10',\n",
    "         'mean_speed_on_paper10',\n",
    "         'paper_time11',\n",
    "         'mean_gmrt14',\n",
    "         'total_time15',\n",
    "         'air_time17',\n",
    "         'mean_jerk_in_air17',\n",
    "         'total_time17',\n",
    "         'air_time19',\n",
    "         'max_x_extension19',\n",
    "         'mean_speed_on_paper19',\n",
    "         'num_of_pendown19',\n",
    "         'pressure_mean19',\n",
    "         'total_time19',\n",
    "         'air_time22',\n",
    "         'air_time23',\n",
    "         'paper_time23',\n",
    "         'total_time23',\n",
    "         'total_time25','class']]\n",
    "df.to_csv('anova_process.csv')"
   ]
  },
  {
   "cell_type": "code",
   "execution_count": 21,
   "id": "7322768a",
   "metadata": {},
   "outputs": [],
   "source": [
    "df = pd.read_csv('anova_process.csv')"
   ]
  },
  {
   "cell_type": "code",
   "execution_count": 22,
   "id": "60880d36",
   "metadata": {},
   "outputs": [],
   "source": [
    "del df['Unnamed: 0']"
   ]
  },
  {
   "cell_type": "code",
   "execution_count": 23,
   "id": "c285440d",
   "metadata": {},
   "outputs": [
    {
     "name": "stdout",
     "output_type": "stream",
     "text": [
      "<class 'pandas.core.frame.DataFrame'>\n",
      "RangeIndex: 174 entries, 0 to 173\n",
      "Data columns (total 21 columns):\n",
      " #   Column                 Non-Null Count  Dtype  \n",
      "---  ------                 --------------  -----  \n",
      " 0   total_time9            174 non-null    int64  \n",
      " 1   gmrt_on_paper10        174 non-null    float64\n",
      " 2   mean_speed_on_paper10  174 non-null    float64\n",
      " 3   paper_time11           174 non-null    int64  \n",
      " 4   mean_gmrt14            174 non-null    float64\n",
      " 5   total_time15           174 non-null    int64  \n",
      " 6   air_time17             174 non-null    int64  \n",
      " 7   mean_jerk_in_air17     174 non-null    float64\n",
      " 8   total_time17           174 non-null    int64  \n",
      " 9   air_time19             174 non-null    int64  \n",
      " 10  max_x_extension19      174 non-null    int64  \n",
      " 11  mean_speed_on_paper19  174 non-null    float64\n",
      " 12  num_of_pendown19       174 non-null    int64  \n",
      " 13  pressure_mean19        174 non-null    float64\n",
      " 14  total_time19           174 non-null    int64  \n",
      " 15  air_time22             174 non-null    int64  \n",
      " 16  air_time23             174 non-null    int64  \n",
      " 17  paper_time23           174 non-null    int64  \n",
      " 18  total_time23           174 non-null    int64  \n",
      " 19  total_time25           174 non-null    int64  \n",
      " 20  class                  174 non-null    object \n",
      "dtypes: float64(6), int64(14), object(1)\n",
      "memory usage: 28.7+ KB\n"
     ]
    }
   ],
   "source": [
    "df.info()"
   ]
  },
  {
   "cell_type": "code",
   "execution_count": 24,
   "id": "3d7f5d16",
   "metadata": {},
   "outputs": [
    {
     "data": {
      "image/png": "[encoded data removed]",
      "text/plain": [
       "<Figure size 480x480 with 1 Axes>"
      ]
     },
     "metadata": {},
     "output_type": "display_data"
    }
   ],
   "source": [
    "import matplotlib.pyplot as plt\n",
    "\n",
    "plt.matshow(df.corr())\n",
    "plt.show()"
   ]
  },
  {
   "cell_type": "code",
   "execution_count": 25,
   "id": "f5fbe18d",
   "metadata": {},
   "outputs": [
    {
     "data": {
      "text/plain": [
       "array([1, 0])"
      ]
     },
     "execution_count": 25,
     "metadata": {},
     "output_type": "execute_result"
    }
   ],
   "source": [
    "# Import label encoder \n",
    "from sklearn import preprocessing \n",
    "\n",
    "# label_encoder object knows \n",
    "# how to understand word labels. \n",
    "label_encoder = preprocessing.LabelEncoder() \n",
    "\n",
    "# Encode labels in column 'species'. \n",
    "df['class']= label_encoder.fit_transform(df['class']) \n",
    "\n",
    "df['class'].unique() "
   ]
  },
  {
   "cell_type": "code",
   "execution_count": 26,
   "id": "767eb27c",
   "metadata": {},
   "outputs": [],
   "source": [
    "X = df.drop([\"class\"],axis =1)\n",
    "y = df[\"class\"]"
   ]
  },
  {
   "cell_type": "code",
   "execution_count": 27,
   "id": "142b1103",
   "metadata": {},
   "outputs": [
    {
     "data": {
      "text/plain": [
       "((139, 20), (139,), (35, 20), (35,))"
      ]
     },
     "execution_count": 27,
     "metadata": {},
     "output_type": "execute_result"
    }
   ],
   "source": [
    "from sklearn.model_selection import train_test_split\n",
    "\n",
    "X_train, X_valid, y_train, y_valid = train_test_split(X, y, test_size = 0.20, random_state = 42)\n",
    "X_train.shape, y_train.shape, X_valid.shape, y_valid.shape"
   ]
  },
  {
   "cell_type": "code",
   "execution_count": 10,
   "id": "1e54d395",
   "metadata": {},
   "outputs": [],
   "source": [
    "from sklearn.metrics import accuracy_score # for calculating accuracy of model\n",
    "from sklearn.metrics import precision_score\n",
    "from sklearn.metrics import recall_score\n",
    "from sklearn.metrics import f1_score,roc_auc_score,cohen_kappa_score,matthews_corrcoef"
   ]
  },
  {
   "cell_type": "code",
   "execution_count": 11,
   "id": "7ba356f0",
   "metadata": {},
   "outputs": [],
   "source": [
    "from sklearn.model_selection import RepeatedKFold\n",
    "from sklearn.model_selection import cross_val_score\n",
    "from  sklearn.model_selection import ShuffleSplit "
   ]
  },
  {
   "cell_type": "code",
   "execution_count": 12,
   "id": "2fb32d71",
   "metadata": {},
   "outputs": [],
   "source": [
    "from numpy import mean\n",
    "from numpy import std"
   ]
  },
  {
   "cell_type": "code",
   "execution_count": 15,
   "id": "d9b877f0",
   "metadata": {},
   "outputs": [],
   "source": [
    "ML_Model = []\n",
    "accuracy = []\n",
    "precision = []\n",
    "recall = []\n",
    "f1score = []\n",
    "auc = []\n",
    "coh = []\n",
    "mcc = []\n",
    "\n",
    "\n",
    "#function to call for storing the results\n",
    "def storeResults(model, a,b,c,d,e,f,g):\n",
    "    ML_Model.append(model)\n",
    "    accuracy.append(round(a, 3))\n",
    "    precision.append(round(b, 3))\n",
    "    recall.append(round(c, 3))\n",
    "    f1score.append(round(d, 3))\n",
    "    auc.append(round(e,3))\n",
    "    coh.append(round(f,3))\n",
    "    mcc.append(round(g,3))"
   ]
  },
  {
   "cell_type": "markdown",
   "id": "d82c9488",
   "metadata": {},
   "source": [
    "# Random Forest"
   ]
  },
  {
   "cell_type": "code",
   "execution_count": 16,
   "id": "9a0e584b",
   "metadata": {},
   "outputs": [],
   "source": [
    "from sklearn.ensemble import RandomForestClassifier\n",
    "rf = RandomForestClassifier(random_state=42)\n",
    "rf.fit(X_train, y_train)\n",
    "\n",
    "y_pred    = rf.predict(X_valid)\n",
    "\n",
    "rf_acc = accuracy_score(y_pred, y_valid)\n",
    "rf_prec = precision_score(y_pred, y_valid,average='weighted')\n",
    "rf_rec = recall_score(y_pred, y_valid,average='weighted')\n",
    "rf_f1 = f1_score(y_pred, y_valid,average='weighted')\n",
    "rf_auroc = roc_auc_score(y_train, rf.predict_proba(X_train)[:, 1])\n",
    "rf_cok = cohen_kappa_score(y_valid, y_pred)\n",
    "rf_mcc = matthews_corrcoef(y_valid, y_pred)"
   ]
  },
  {
   "cell_type": "code",
   "execution_count": 15,
   "id": "76dca0b1",
   "metadata": {},
   "outputs": [],
   "source": [
    "storeResults('Random Forest',rf_acc,rf_prec,rf_rec,rf_f1,rf_auroc,rf_cok,rf_mcc)"
   ]
  },
  {
   "cell_type": "code",
   "execution_count": 14,
   "id": "a5a25220",
   "metadata": {},
   "outputs": [],
   "source": [
    "rcv = RepeatedKFold(n_splits=10, n_repeats=10, random_state=1)"
   ]
  },
  {
   "cell_type": "code",
   "execution_count": 17,
   "id": "a6d9117d",
   "metadata": {},
   "outputs": [
    {
     "name": "stdout",
     "output_type": "stream",
     "text": [
      "Accuracy of RepeatedKFold: 0.868 (0.093)\n"
     ]
    }
   ],
   "source": [
    "scores = cross_val_score(rf, X_train, y_train, scoring='accuracy', cv=rcv, n_jobs=-1)\n",
    "# report performance\n",
    "print('Accuracy of RepeatedKFold: %.3f (%.3f)' % (mean(scores), std(scores)))"
   ]
  },
  {
   "cell_type": "code",
   "execution_count": 15,
   "id": "a37d2eea",
   "metadata": {},
   "outputs": [],
   "source": [
    "mc=ShuffleSplit(n_splits=5,test_size=0.33,random_state=7)"
   ]
  },
  {
   "cell_type": "code",
   "execution_count": 19,
   "id": "d6555bb8",
   "metadata": {},
   "outputs": [
    {
     "name": "stdout",
     "output_type": "stream",
     "text": [
      "Cross validation scores with Monte Carlo Cross Validation\n"
     ]
    },
    {
     "data": {
      "text/plain": [
       "0.8521739130434781"
      ]
     },
     "execution_count": 19,
     "metadata": {},
     "output_type": "execute_result"
    }
   ],
   "source": [
    "print(\"Cross validation scores with Monte Carlo Cross Validation\")\n",
    "cross_val_score(rf,X_train,y_train.values.reshape(-1,),cv=mc).mean()"
   ]
  },
  {
   "cell_type": "markdown",
   "id": "29d08206",
   "metadata": {},
   "source": [
    "# Logistic Regression"
   ]
  },
  {
   "cell_type": "code",
   "execution_count": 20,
   "id": "8360f2a1",
   "metadata": {},
   "outputs": [],
   "source": [
    "from sklearn.linear_model import LogisticRegression\n",
    "lr = LogisticRegression(random_state=0)\n",
    "lr.fit(X_train, y_train)\n",
    "\n",
    "y_pred    = lr.predict(X_valid)\n",
    "\n",
    "lr_acc = accuracy_score(y_pred, y_valid)\n",
    "lr_prec = precision_score(y_pred, y_valid,average='weighted')\n",
    "lr_rec = recall_score(y_pred, y_valid,average='weighted')\n",
    "lr_f1 = f1_score(y_pred, y_valid,average='weighted')\n",
    "lr_auroc = roc_auc_score(y_train, lr.predict_proba(X_train)[:, 1])\n",
    "lr_cok = cohen_kappa_score(y_valid, y_pred)\n",
    "lr_mcc = matthews_corrcoef(y_valid, y_pred)"
   ]
  },
  {
   "cell_type": "code",
   "execution_count": 21,
   "id": "a3b5b77d",
   "metadata": {},
   "outputs": [],
   "source": [
    "storeResults('LogisticRegression',lr_acc,lr_prec,lr_rec,lr_f1,lr_auroc,lr_cok,lr_mcc)"
   ]
  },
  {
   "cell_type": "code",
   "execution_count": 22,
   "id": "14277a8d",
   "metadata": {},
   "outputs": [
    {
     "name": "stdout",
     "output_type": "stream",
     "text": [
      "Accuracy of RepeatedKFold: 0.838 (0.096)\n"
     ]
    }
   ],
   "source": [
    "scores = cross_val_score(lr, X_train, y_train, scoring='accuracy', cv=rcv, n_jobs=-1)\n",
    "# report performance\n",
    "print('Accuracy of RepeatedKFold: %.3f (%.3f)' % (mean(scores), std(scores)))"
   ]
  },
  {
   "cell_type": "code",
   "execution_count": 23,
   "id": "e4282a7a",
   "metadata": {},
   "outputs": [
    {
     "name": "stdout",
     "output_type": "stream",
     "text": [
      "Cross validation scores with Monte Carlo Cross Validation\n"
     ]
    },
    {
     "data": {
      "text/plain": [
       "0.8391304347826086"
      ]
     },
     "execution_count": 23,
     "metadata": {},
     "output_type": "execute_result"
    }
   ],
   "source": [
    "print(\"Cross validation scores with Monte Carlo Cross Validation\")\n",
    "cross_val_score(lr,X_train,y_train.values.reshape(-1,),cv=mc).mean()"
   ]
  },
  {
   "cell_type": "markdown",
   "id": "1a7c3bf6",
   "metadata": {},
   "source": [
    "# LDA"
   ]
  },
  {
   "cell_type": "code",
   "execution_count": 24,
   "id": "fdeacb7e",
   "metadata": {},
   "outputs": [],
   "source": [
    "from sklearn.discriminant_analysis import LinearDiscriminantAnalysis\n",
    "lda = LinearDiscriminantAnalysis()\n",
    "lda.fit(X_train, y_train)\n",
    "\n",
    "y_pred    = lda.predict(X_valid)\n",
    "\n",
    "lda_acc = accuracy_score(y_pred, y_valid)\n",
    "lda_prec = precision_score(y_pred, y_valid,average='weighted')\n",
    "lda_rec = recall_score(y_pred, y_valid,average='weighted')\n",
    "lda_f1 = f1_score(y_pred, y_valid,average='weighted')\n",
    "lda_auroc = roc_auc_score(y_train, lda.predict_proba(X_train)[:, 1])\n",
    "lda_cok = cohen_kappa_score(y_valid, y_pred)\n",
    "lda_mcc = matthews_corrcoef(y_valid, y_pred)"
   ]
  },
  {
   "cell_type": "code",
   "execution_count": 25,
   "id": "a98182ba",
   "metadata": {},
   "outputs": [],
   "source": [
    "storeResults('LinearDiscriminantAnalysis',lda_acc,lda_prec,lda_rec,lda_f1,lda_auroc,lda_cok,lda_mcc)"
   ]
  },
  {
   "cell_type": "code",
   "execution_count": 26,
   "id": "ef9e48d2",
   "metadata": {},
   "outputs": [
    {
     "name": "stdout",
     "output_type": "stream",
     "text": [
      "Accuracy of RepeatedKFold: 0.824 (0.097)\n"
     ]
    }
   ],
   "source": [
    "scores = cross_val_score(lda, X_train, y_train, scoring='accuracy', cv=rcv, n_jobs=-1)\n",
    "# report performance\n",
    "print('Accuracy of RepeatedKFold: %.3f (%.3f)' % (mean(scores), std(scores)))"
   ]
  },
  {
   "cell_type": "code",
   "execution_count": 27,
   "id": "266c6d96",
   "metadata": {},
   "outputs": [
    {
     "name": "stdout",
     "output_type": "stream",
     "text": [
      "Cross validation scores with Monte Carlo Cross Validation\n"
     ]
    },
    {
     "data": {
      "text/plain": [
       "0.8043478260869564"
      ]
     },
     "execution_count": 27,
     "metadata": {},
     "output_type": "execute_result"
    }
   ],
   "source": [
    "print(\"Cross validation scores with Monte Carlo Cross Validation\")\n",
    "cross_val_score(lda,X_train,y_train.values.reshape(-1,),cv=mc).mean()"
   ]
  },
  {
   "cell_type": "markdown",
   "id": "f829552e",
   "metadata": {},
   "source": [
    "# GuassianNB"
   ]
  },
  {
   "cell_type": "code",
   "execution_count": 19,
   "id": "4120b82b",
   "metadata": {},
   "outputs": [],
   "source": [
    "from sklearn.naive_bayes import GaussianNB\n",
    "nb = GaussianNB()\n",
    "nb.fit(X_train, y_train)\n",
    "\n",
    "y_pred    = nb.predict(X_valid)\n",
    "\n",
    "nb_acc = accuracy_score(y_pred, y_valid)\n",
    "nb_prec = precision_score(y_pred, y_valid,average='weighted')\n",
    "nb_rec = recall_score(y_pred, y_valid,average='weighted')\n",
    "nb_f1 = f1_score(y_pred, y_valid,average='weighted')\n",
    "nb_auroc = roc_auc_score(y_train, nb.predict_proba(X_train)[:, 1])\n",
    "nb_cok = cohen_kappa_score(y_valid, y_pred)\n",
    "nb_mcc = matthews_corrcoef(y_valid, y_pred)"
   ]
  },
  {
   "cell_type": "code",
   "execution_count": 29,
   "id": "107e10d9",
   "metadata": {},
   "outputs": [],
   "source": [
    "storeResults('GaussianNB',nb_acc,nb_prec,nb_rec,nb_f1,nb_auroc,nb_cok,nb_mcc)"
   ]
  },
  {
   "cell_type": "code",
   "execution_count": 30,
   "id": "07dd8c16",
   "metadata": {},
   "outputs": [
    {
     "name": "stdout",
     "output_type": "stream",
     "text": [
      "Accuracy of RepeatedKFold: 0.795 (0.103)\n"
     ]
    }
   ],
   "source": [
    "scores = cross_val_score(nb, X_train, y_train, scoring='accuracy', cv=rcv, n_jobs=-1)\n",
    "# report performance\n",
    "print('Accuracy of RepeatedKFold: %.3f (%.3f)' % (mean(scores), std(scores)))"
   ]
  },
  {
   "cell_type": "code",
   "execution_count": 31,
   "id": "e730c31f",
   "metadata": {},
   "outputs": [
    {
     "name": "stdout",
     "output_type": "stream",
     "text": [
      "Cross validation scores with Monte Carlo Cross Validation\n"
     ]
    },
    {
     "data": {
      "text/plain": [
       "0.8043478260869567"
      ]
     },
     "execution_count": 31,
     "metadata": {},
     "output_type": "execute_result"
    }
   ],
   "source": [
    "print(\"Cross validation scores with Monte Carlo Cross Validation\")\n",
    "cross_val_score(nb,X_train,y_train.values.reshape(-1,),cv=mc).mean()"
   ]
  },
  {
   "cell_type": "markdown",
   "id": "fff38ec0",
   "metadata": {},
   "source": [
    "# ExtraTree"
   ]
  },
  {
   "cell_type": "code",
   "execution_count": 20,
   "id": "d2e537a9",
   "metadata": {},
   "outputs": [],
   "source": [
    "from sklearn.tree import ExtraTreeClassifier\n",
    "\n",
    "et = ExtraTreeClassifier(random_state=0)\n",
    "et.fit(X_train, y_train)\n",
    "\n",
    "y_pred    = et.predict(X_valid)\n",
    "\n",
    "et_acc = accuracy_score(y_pred, y_valid)\n",
    "et_prec = precision_score(y_pred, y_valid,average='weighted')\n",
    "et_rec = recall_score(y_pred, y_valid,average='weighted')\n",
    "et_f1 = f1_score(y_pred, y_valid,average='weighted')\n",
    "et_auroc = roc_auc_score(y_train, et.predict_proba(X_train)[:, 1])\n",
    "et_cok = cohen_kappa_score(y_valid, y_pred)\n",
    "et_mcc = matthews_corrcoef(y_valid, y_pred)"
   ]
  },
  {
   "cell_type": "code",
   "execution_count": 33,
   "id": "9d3203b2",
   "metadata": {},
   "outputs": [],
   "source": [
    "storeResults('ExtraTree',et_acc,et_prec,et_rec,et_f1,et_auroc,et_cok,et_mcc)"
   ]
  },
  {
   "cell_type": "code",
   "execution_count": 34,
   "id": "32b5a343",
   "metadata": {},
   "outputs": [
    {
     "name": "stdout",
     "output_type": "stream",
     "text": [
      "Accuracy of RepeatedKFold: 0.781 (0.120)\n"
     ]
    }
   ],
   "source": [
    "scores = cross_val_score(et, X_train, y_train, scoring='accuracy', cv=rcv, n_jobs=-1)\n",
    "# report performance\n",
    "print('Accuracy of RepeatedKFold: %.3f (%.3f)' % (mean(scores), std(scores)))"
   ]
  },
  {
   "cell_type": "code",
   "execution_count": 35,
   "id": "66e9db48",
   "metadata": {},
   "outputs": [
    {
     "name": "stdout",
     "output_type": "stream",
     "text": [
      "Cross validation scores with Monte Carlo Cross Validation\n"
     ]
    },
    {
     "data": {
      "text/plain": [
       "0.7347826086956522"
      ]
     },
     "execution_count": 35,
     "metadata": {},
     "output_type": "execute_result"
    }
   ],
   "source": [
    "print(\"Cross validation scores with Monte Carlo Cross Validation\")\n",
    "cross_val_score(et,X_train,y_train.values.reshape(-1,),cv=mc).mean()"
   ]
  },
  {
   "cell_type": "markdown",
   "id": "5e7951a7",
   "metadata": {},
   "source": [
    "# XGBoost"
   ]
  },
  {
   "cell_type": "code",
   "execution_count": 36,
   "id": "afaebcf6",
   "metadata": {},
   "outputs": [],
   "source": [
    "from xgboost import XGBClassifier\n",
    "\n",
    "xgb = XGBClassifier(random_state=0)\n",
    "xgb.fit(X_train, y_train)\n",
    "\n",
    "y_pred    = xgb.predict(X_valid)\n",
    "\n",
    "xgb_acc = accuracy_score(y_pred, y_valid)\n",
    "xgb_prec = precision_score(y_pred, y_valid,average='weighted')\n",
    "xgb_rec = recall_score(y_pred, y_valid,average='weighted')\n",
    "xgb_f1 = f1_score(y_pred, y_valid,average='weighted')\n",
    "xgb_auroc = roc_auc_score(y_train, xgb.predict_proba(X_train)[:, 1])\n",
    "xgb_cok = cohen_kappa_score(y_valid, y_pred)\n",
    "xgb_mcc = matthews_corrcoef(y_valid, y_pred)"
   ]
  },
  {
   "cell_type": "code",
   "execution_count": 37,
   "id": "a3a96b48",
   "metadata": {},
   "outputs": [],
   "source": [
    "storeResults('XGBoost',xgb_acc,xgb_prec,xgb_rec,xgb_f1,xgb_auroc,xgb_cok,xgb_mcc)"
   ]
  },
  {
   "cell_type": "code",
   "execution_count": 38,
   "id": "df471697",
   "metadata": {},
   "outputs": [
    {
     "name": "stdout",
     "output_type": "stream",
     "text": [
      "Accuracy of RepeatedKFold: 0.878 (0.089)\n"
     ]
    }
   ],
   "source": [
    "scores = cross_val_score(xgb, X_train, y_train, scoring='accuracy', cv=rcv, n_jobs=-1)\n",
    "# report performance\n",
    "print('Accuracy of RepeatedKFold: %.3f (%.3f)' % (mean(scores), std(scores)))"
   ]
  },
  {
   "cell_type": "code",
   "execution_count": 39,
   "id": "95535463",
   "metadata": {},
   "outputs": [
    {
     "name": "stdout",
     "output_type": "stream",
     "text": [
      "Cross validation scores with Monte Carlo Cross Validation\n"
     ]
    },
    {
     "data": {
      "text/plain": [
       "0.8652173913043478"
      ]
     },
     "execution_count": 39,
     "metadata": {},
     "output_type": "execute_result"
    }
   ],
   "source": [
    "print(\"Cross validation scores with Monte Carlo Cross Validation\")\n",
    "cross_val_score(xgb,X_train,y_train.values.reshape(-1,),cv=mc).mean()"
   ]
  },
  {
   "cell_type": "markdown",
   "id": "205c07c6",
   "metadata": {},
   "source": [
    "# KNN"
   ]
  },
  {
   "cell_type": "code",
   "execution_count": 40,
   "id": "a811f15d",
   "metadata": {},
   "outputs": [],
   "source": [
    "from sklearn.neighbors import KNeighborsClassifier\n",
    "knn = KNeighborsClassifier(n_neighbors=3)\n",
    "knn.fit(X_train, y_train)\n",
    "\n",
    "y_pred    = knn.predict(X_valid)\n",
    "\n",
    "knn_acc = accuracy_score(y_pred, y_valid)\n",
    "knn_prec = precision_score(y_pred, y_valid,average='weighted')\n",
    "knn_rec = recall_score(y_pred, y_valid,average='weighted')\n",
    "knn_f1 = f1_score(y_pred, y_valid,average='weighted')\n",
    "knn_auroc = roc_auc_score(y_train, knn.predict_proba(X_train)[:, 1])\n",
    "knn_cok = cohen_kappa_score(y_valid, y_pred)\n",
    "knn_mcc = matthews_corrcoef(y_valid, y_pred)"
   ]
  },
  {
   "cell_type": "code",
   "execution_count": 41,
   "id": "0ef3e7c0",
   "metadata": {},
   "outputs": [],
   "source": [
    "storeResults('KNN',knn_acc,knn_prec,knn_rec,knn_f1,knn_auroc,knn_cok,knn_mcc)"
   ]
  },
  {
   "cell_type": "code",
   "execution_count": 42,
   "id": "6cf32128",
   "metadata": {},
   "outputs": [
    {
     "name": "stdout",
     "output_type": "stream",
     "text": [
      "Accuracy of RepeatedKFold: 0.732 (0.125)\n"
     ]
    }
   ],
   "source": [
    "scores = cross_val_score(knn, X_train, y_train, scoring='accuracy', cv=rcv, n_jobs=-1)\n",
    "# report performance\n",
    "print('Accuracy of RepeatedKFold: %.3f (%.3f)' % (mean(scores), std(scores)))"
   ]
  },
  {
   "cell_type": "code",
   "execution_count": 43,
   "id": "02c97d09",
   "metadata": {},
   "outputs": [
    {
     "name": "stdout",
     "output_type": "stream",
     "text": [
      "Cross validation scores with Monte Carlo Cross Validation\n"
     ]
    },
    {
     "data": {
      "text/plain": [
       "0.743478260869565"
      ]
     },
     "execution_count": 43,
     "metadata": {},
     "output_type": "execute_result"
    }
   ],
   "source": [
    "print(\"Cross validation scores with Monte Carlo Cross Validation\")\n",
    "cross_val_score(knn,X_train,y_train.values.reshape(-1,),cv=mc).mean()"
   ]
  },
  {
   "cell_type": "markdown",
   "id": "01f5e073",
   "metadata": {},
   "source": [
    "# SVM"
   ]
  },
  {
   "cell_type": "code",
   "execution_count": 44,
   "id": "ab9fbad9",
   "metadata": {},
   "outputs": [],
   "source": [
    "from sklearn.svm import SVC\n",
    "\n",
    "svm = SVC(gamma='auto',probability=True)\n",
    "svm.fit(X_train, y_train)\n",
    "\n",
    "y_pred    = svm.predict(X_valid)\n",
    "\n",
    "svm_acc = accuracy_score(y_pred, y_valid)\n",
    "svm_prec = precision_score(y_pred, y_valid,average='weighted')\n",
    "svm_rec = recall_score(y_pred, y_valid,average='weighted')\n",
    "svm_f1 = f1_score(y_pred, y_valid,average='weighted')\n",
    "svm_auroc = roc_auc_score(y_train, svm.predict_proba(X_train)[:, 1])\n",
    "svm_cok = cohen_kappa_score(y_valid, y_pred)\n",
    "svm_mcc = matthews_corrcoef(y_valid, y_pred)"
   ]
  },
  {
   "cell_type": "code",
   "execution_count": 45,
   "id": "e2754f05",
   "metadata": {},
   "outputs": [],
   "source": [
    "storeResults('SVM',svm_acc,svm_prec,svm_rec,svm_f1,svm_auroc,svm_cok,svm_mcc)"
   ]
  },
  {
   "cell_type": "code",
   "execution_count": 46,
   "id": "0e4542cd",
   "metadata": {},
   "outputs": [
    {
     "name": "stdout",
     "output_type": "stream",
     "text": [
      "Accuracy of RepeatedKFold: 0.424 (0.069)\n"
     ]
    }
   ],
   "source": [
    "scores = cross_val_score(svm, X_train, y_train, scoring='accuracy', cv=rcv, n_jobs=-1)\n",
    "# report performance\n",
    "print('Accuracy of RepeatedKFold: %.3f (%.3f)' % (mean(scores), std(scores)))"
   ]
  },
  {
   "cell_type": "code",
   "execution_count": 47,
   "id": "ea168930",
   "metadata": {},
   "outputs": [
    {
     "name": "stdout",
     "output_type": "stream",
     "text": [
      "Cross validation scores with Monte Carlo Cross Validation\n"
     ]
    },
    {
     "data": {
      "text/plain": [
       "0.4913043478260869"
      ]
     },
     "execution_count": 47,
     "metadata": {},
     "output_type": "execute_result"
    }
   ],
   "source": [
    "print(\"Cross validation scores with Monte Carlo Cross Validation\")\n",
    "cross_val_score(svm,X_train,y_train.values.reshape(-1,),cv=mc).mean()"
   ]
  },
  {
   "cell_type": "markdown",
   "id": "1a380d78",
   "metadata": {},
   "source": [
    "# MLP"
   ]
  },
  {
   "cell_type": "code",
   "execution_count": 48,
   "id": "53837583",
   "metadata": {},
   "outputs": [],
   "source": [
    "from sklearn.neural_network import MLPClassifier\n",
    "mlp = MLPClassifier(random_state=1, max_iter=30)\n",
    "mlp.fit(X_train, y_train)\n",
    "\n",
    "y_pred    = mlp.predict(X_valid)\n",
    "\n",
    "mlp_acc = accuracy_score(y_pred, y_valid)\n",
    "mlp_prec = precision_score(y_pred, y_valid,average='weighted')\n",
    "mlp_rec = recall_score(y_pred, y_valid,average='weighted')\n",
    "mlp_f1 = f1_score(y_pred, y_valid,average='weighted')\n",
    "mlp_auroc = roc_auc_score(y_train, mlp.predict_proba(X_train)[:, 1])\n",
    "mlp_cok = cohen_kappa_score(y_valid, y_pred)\n",
    "mlp_mcc = matthews_corrcoef(y_valid, y_pred)"
   ]
  },
  {
   "cell_type": "code",
   "execution_count": 49,
   "id": "32d6cda0",
   "metadata": {},
   "outputs": [],
   "source": [
    "storeResults('MLP',mlp_acc,mlp_prec,mlp_rec,mlp_f1,mlp_auroc,mlp_cok,mlp_mcc)"
   ]
  },
  {
   "cell_type": "code",
   "execution_count": 50,
   "id": "e0c5030c",
   "metadata": {},
   "outputs": [
    {
     "name": "stdout",
     "output_type": "stream",
     "text": [
      "Accuracy of RepeatedKFold: 0.576 (0.122)\n"
     ]
    }
   ],
   "source": [
    "scores = cross_val_score(mlp, X_train, y_train, scoring='accuracy', cv=rcv, n_jobs=-1)\n",
    "# report performance\n",
    "print('Accuracy of RepeatedKFold: %.3f (%.3f)' % (mean(scores), std(scores)))"
   ]
  },
  {
   "cell_type": "code",
   "execution_count": 51,
   "id": "30d8bbe7",
   "metadata": {},
   "outputs": [
    {
     "name": "stdout",
     "output_type": "stream",
     "text": [
      "Cross validation scores with Monte Carlo Cross Validation\n"
     ]
    },
    {
     "data": {
      "text/plain": [
       "0.5608695652173913"
      ]
     },
     "execution_count": 51,
     "metadata": {},
     "output_type": "execute_result"
    }
   ],
   "source": [
    "print(\"Cross validation scores with Monte Carlo Cross Validation\")\n",
    "cross_val_score(mlp,X_train,y_train.values.reshape(-1,),cv=mc).mean()"
   ]
  },
  {
   "cell_type": "markdown",
   "id": "cb74679b",
   "metadata": {},
   "source": [
    "# DecisionTree"
   ]
  },
  {
   "cell_type": "code",
   "execution_count": 19,
   "id": "3844535e",
   "metadata": {},
   "outputs": [],
   "source": [
    "from sklearn.tree import DecisionTreeClassifier\n",
    "\n",
    "dt = DecisionTreeClassifier(random_state=10)\n",
    "dt.fit(X_train, y_train)\n",
    "\n",
    "y_pred    = dt.predict(X_valid)\n",
    "\n",
    "dt_acc = accuracy_score(y_pred, y_valid)\n",
    "dt_prec = precision_score(y_pred, y_valid,average='weighted')\n",
    "dt_rec = recall_score(y_pred, y_valid,average='weighted')\n",
    "dt_f1 = f1_score(y_pred, y_valid,average='weighted')\n",
    "dt_auroc = roc_auc_score(y_train, dt.predict_proba(X_train)[:, 1])\n",
    "dt_cok = cohen_kappa_score(y_valid, y_pred)\n",
    "dt_mcc = matthews_corrcoef(y_valid, y_pred)"
   ]
  },
  {
   "cell_type": "code",
   "execution_count": 53,
   "id": "45e50409",
   "metadata": {},
   "outputs": [],
   "source": [
    "storeResults('DecisionTree',dt_acc,dt_prec,dt_rec,dt_f1,dt_auroc,dt_cok,dt_mcc)"
   ]
  },
  {
   "cell_type": "code",
   "execution_count": 54,
   "id": "87414a69",
   "metadata": {},
   "outputs": [
    {
     "name": "stdout",
     "output_type": "stream",
     "text": [
      "Accuracy of RepeatedKFold: 0.796 (0.103)\n"
     ]
    }
   ],
   "source": [
    "scores = cross_val_score(dt, X_train, y_train, scoring='accuracy', cv=rcv, n_jobs=-1)\n",
    "# report performance\n",
    "print('Accuracy of RepeatedKFold: %.3f (%.3f)' % (mean(scores), std(scores)))"
   ]
  },
  {
   "cell_type": "code",
   "execution_count": 55,
   "id": "844d9aa7",
   "metadata": {},
   "outputs": [
    {
     "name": "stdout",
     "output_type": "stream",
     "text": [
      "Cross validation scores with Monte Carlo Cross Validation\n"
     ]
    },
    {
     "data": {
      "text/plain": [
       "0.7695652173913043"
      ]
     },
     "execution_count": 55,
     "metadata": {},
     "output_type": "execute_result"
    }
   ],
   "source": [
    "print(\"Cross validation scores with Monte Carlo Cross Validation\")\n",
    "cross_val_score(dt,X_train,y_train.values.reshape(-1,),cv=mc).mean()"
   ]
  },
  {
   "cell_type": "markdown",
   "id": "cb0bb7e1",
   "metadata": {},
   "source": [
    "# Proposed Stack-Model"
   ]
  },
  {
   "cell_type": "code",
   "execution_count": 22,
   "id": "aca8a068",
   "metadata": {},
   "outputs": [],
   "source": [
    "from sklearn.ensemble import StackingClassifier\n",
    "\n",
    "estimators = [('rf', rf),('et', et)]\n",
    "\n",
    "eclf1 = StackingClassifier(estimators=estimators, final_estimator=nb)\n",
    "\n",
    "eclf1.fit(X_train, y_train)\n",
    "\n",
    "y_pred    = eclf1.predict(X_valid)\n",
    "\n",
    "stack_acc = accuracy_score(y_pred, y_valid)\n",
    "stack_prec = precision_score(y_pred, y_valid,average='weighted')\n",
    "stack_rec = recall_score(y_pred, y_valid,average='weighted')\n",
    "stack_f1 = f1_score(y_pred, y_valid,average='weighted')\n",
    "stack_auroc = roc_auc_score(y_train, eclf1.predict_proba(X_train)[:, 1])\n",
    "stack_cok = cohen_kappa_score(y_valid, y_pred)\n",
    "stack_mcc = matthews_corrcoef(y_valid, y_pred)"
   ]
  },
  {
   "cell_type": "code",
   "execution_count": 58,
   "id": "12ea36b3",
   "metadata": {},
   "outputs": [],
   "source": [
    "storeResults('Stack-Model',stack_acc,stack_prec,stack_rec,stack_f1,stack_auroc,stack_cok,stack_mcc)"
   ]
  },
  {
   "cell_type": "code",
   "execution_count": 26,
   "id": "13020467",
   "metadata": {},
   "outputs": [
    {
     "name": "stdout",
     "output_type": "stream",
     "text": [
      "Accuracy of RepeatedKFold: 0.865 (0.099)\n"
     ]
    }
   ],
   "source": [
    "scores = cross_val_score(eclf1, X_train, y_train, scoring='accuracy', cv=rcv, n_jobs=-1)\n",
    "# report performance\n",
    "print('Accuracy of RepeatedKFold: %.3f (%.3f)' % (mean(scores), std(scores)))"
   ]
  },
  {
   "cell_type": "code",
   "execution_count": 27,
   "id": "9dc7034d",
   "metadata": {},
   "outputs": [
    {
     "name": "stdout",
     "output_type": "stream",
     "text": [
      "Cross validation scores with Monte Carlo Cross Validation\n"
     ]
    },
    {
     "data": {
      "text/plain": [
       "0.8521739130434781"
      ]
     },
     "execution_count": 27,
     "metadata": {},
     "output_type": "execute_result"
    }
   ],
   "source": [
    "print(\"Cross validation scores with Monte Carlo Cross Validation\")\n",
    "cross_val_score(eclf1,X_train,y_train.values.reshape(-1,),cv=mc).mean()"
   ]
  },
  {
   "cell_type": "markdown",
   "id": "d8fbdedb",
   "metadata": {},
   "source": [
    "# Voting Classifier"
   ]
  },
  {
   "cell_type": "code",
   "execution_count": 13,
   "id": "3afb2503",
   "metadata": {},
   "outputs": [],
   "source": [
    "from sklearn.ensemble import RandomForestClassifier, VotingClassifier, BaggingClassifier\n",
    "from sklearn.tree import DecisionTreeClassifier\n",
    "\n",
    "clf1 = BaggingClassifier(RandomForestClassifier(),n_estimators=10, random_state=0)\n",
    "clf2 = DecisionTreeClassifier(random_state=10)\n",
    "\n",
    "model = VotingClassifier(estimators=[('bag', clf1), ('dt', clf2)], voting='soft')\n",
    "model.fit(X_train, y_train)\n",
    "\n",
    "y_pred    = model.predict(X_valid)\n",
    "\n",
    "vot_acc = accuracy_score(y_pred, y_valid)\n",
    "vot_prec = precision_score(y_pred, y_valid,average='weighted')\n",
    "vot_rec = recall_score(y_pred, y_valid,average='weighted')\n",
    "vot_f1 = f1_score(y_pred, y_valid,average='weighted')\n",
    "vot_auroc = roc_auc_score(y_train, model.predict_proba(X_train)[:, 1])\n",
    "vot_cok = cohen_kappa_score(y_valid, y_pred)\n",
    "vot_mcc = matthews_corrcoef(y_valid, y_pred)"
   ]
  },
  {
   "cell_type": "code",
   "execution_count": 75,
   "id": "9f45456f",
   "metadata": {},
   "outputs": [],
   "source": [
    "storeResults('Voting Classifier',vot_acc,vot_prec,vot_rec,vot_f1,vot_auroc,vot_cok,vot_mcc)"
   ]
  },
  {
   "cell_type": "code",
   "execution_count": 28,
   "id": "99341918",
   "metadata": {},
   "outputs": [],
   "source": [
    "model = VotingClassifier(estimators=[('bag', clf1), ('dt', clf2)], voting='soft')"
   ]
  },
  {
   "cell_type": "code",
   "execution_count": 30,
   "id": "bbdd0382",
   "metadata": {},
   "outputs": [
    {
     "name": "stdout",
     "output_type": "stream",
     "text": [
      "Accuracy of RepeatedKFold: 0.796 (0.103)\n"
     ]
    }
   ],
   "source": [
    "scores = cross_val_score(model, X_train, y_train, scoring='accuracy', cv=rcv, n_jobs=1)\n",
    "# report performance\n",
    "print('Accuracy of RepeatedKFold: %.3f (%.3f)' % (mean(scores), std(scores)))"
   ]
  },
  {
   "cell_type": "code",
   "execution_count": 31,
   "id": "7e52711b",
   "metadata": {},
   "outputs": [
    {
     "name": "stdout",
     "output_type": "stream",
     "text": [
      "Cross validation scores with Monte Carlo Cross Validation\n"
     ]
    },
    {
     "data": {
      "text/plain": [
       "0.7695652173913043"
      ]
     },
     "execution_count": 31,
     "metadata": {},
     "output_type": "execute_result"
    }
   ],
   "source": [
    "print(\"Cross validation scores with Monte Carlo Cross Validation\")\n",
    "cross_val_score(model,X_train,y_train.values.reshape(-1,),cv=mc).mean()"
   ]
  },
  {
   "cell_type": "markdown",
   "id": "8d11ef11",
   "metadata": {},
   "source": [
    "# Comparison"
   ]
  },
  {
   "cell_type": "code",
   "execution_count": 76,
   "id": "cfe1c26f",
   "metadata": {},
   "outputs": [],
   "source": [
    "#creating dataframe\n",
    "result = pd.DataFrame({ 'ML Model' : ML_Model,\n",
    "                        'Accuracy' : accuracy,\n",
    "                       'Precision': precision,\n",
    "                       'Recall'   : recall, \n",
    "                       'F1_score' : f1score,\n",
    "                       'AUC Score' : auc,\n",
    "                       'Cohen-Kappa' : coh,\n",
    "                       'MCC' : mcc\n",
    "                        \n",
    "                      }) "
   ]
  },
  {
   "cell_type": "code",
   "execution_count": 77,
   "id": "691be484",
   "metadata": {},
   "outputs": [
    {
     "data": {
      "text/html": [
       "<div>\n",
       "<style scoped>\n",
       "    .dataframe tbody tr th:only-of-type {\n",
       "        vertical-align: middle;\n",
       "    }\n",
       "\n",
       "    .dataframe tbody tr th {\n",
       "        vertical-align: top;\n",
       "    }\n",
       "\n",
       "    .dataframe thead th {\n",
       "        text-align: right;\n",
       "    }\n",
       "</style>\n",
       "<table border=\"1\" class=\"dataframe\">\n",
       "  <thead>\n",
       "    <tr style=\"text-align: right;\">\n",
       "      <th></th>\n",
       "      <th>ML Model</th>\n",
       "      <th>Accuracy</th>\n",
       "      <th>Precision</th>\n",
       "      <th>Recall</th>\n",
       "      <th>F1_score</th>\n",
       "      <th>AUC Score</th>\n",
       "      <th>Cohen-Kappa</th>\n",
       "      <th>MCC</th>\n",
       "    </tr>\n",
       "  </thead>\n",
       "  <tbody>\n",
       "    <tr>\n",
       "      <th>0</th>\n",
       "      <td>Random Forest</td>\n",
       "      <td>0.914</td>\n",
       "      <td>0.915</td>\n",
       "      <td>0.914</td>\n",
       "      <td>0.914</td>\n",
       "      <td>1.000</td>\n",
       "      <td>0.826</td>\n",
       "      <td>0.828</td>\n",
       "    </tr>\n",
       "    <tr>\n",
       "      <th>1</th>\n",
       "      <td>LogisticRegression</td>\n",
       "      <td>0.857</td>\n",
       "      <td>0.893</td>\n",
       "      <td>0.857</td>\n",
       "      <td>0.857</td>\n",
       "      <td>0.944</td>\n",
       "      <td>0.720</td>\n",
       "      <td>0.750</td>\n",
       "    </tr>\n",
       "    <tr>\n",
       "      <th>2</th>\n",
       "      <td>LinearDiscriminantAnalysis</td>\n",
       "      <td>0.800</td>\n",
       "      <td>0.810</td>\n",
       "      <td>0.800</td>\n",
       "      <td>0.799</td>\n",
       "      <td>0.953</td>\n",
       "      <td>0.602</td>\n",
       "      <td>0.611</td>\n",
       "    </tr>\n",
       "    <tr>\n",
       "      <th>3</th>\n",
       "      <td>GaussianNB</td>\n",
       "      <td>0.829</td>\n",
       "      <td>0.850</td>\n",
       "      <td>0.829</td>\n",
       "      <td>0.828</td>\n",
       "      <td>0.921</td>\n",
       "      <td>0.661</td>\n",
       "      <td>0.679</td>\n",
       "    </tr>\n",
       "    <tr>\n",
       "      <th>4</th>\n",
       "      <td>ExtraTree</td>\n",
       "      <td>0.743</td>\n",
       "      <td>0.774</td>\n",
       "      <td>0.743</td>\n",
       "      <td>0.743</td>\n",
       "      <td>1.000</td>\n",
       "      <td>0.496</td>\n",
       "      <td>0.517</td>\n",
       "    </tr>\n",
       "    <tr>\n",
       "      <th>5</th>\n",
       "      <td>XGBoost</td>\n",
       "      <td>0.829</td>\n",
       "      <td>0.880</td>\n",
       "      <td>0.829</td>\n",
       "      <td>0.829</td>\n",
       "      <td>1.000</td>\n",
       "      <td>0.667</td>\n",
       "      <td>0.707</td>\n",
       "    </tr>\n",
       "    <tr>\n",
       "      <th>6</th>\n",
       "      <td>KNN</td>\n",
       "      <td>0.829</td>\n",
       "      <td>0.832</td>\n",
       "      <td>0.829</td>\n",
       "      <td>0.828</td>\n",
       "      <td>0.950</td>\n",
       "      <td>0.656</td>\n",
       "      <td>0.660</td>\n",
       "    </tr>\n",
       "    <tr>\n",
       "      <th>7</th>\n",
       "      <td>SVM</td>\n",
       "      <td>0.429</td>\n",
       "      <td>1.000</td>\n",
       "      <td>0.429</td>\n",
       "      <td>0.600</td>\n",
       "      <td>1.000</td>\n",
       "      <td>0.000</td>\n",
       "      <td>0.000</td>\n",
       "    </tr>\n",
       "    <tr>\n",
       "      <th>8</th>\n",
       "      <td>MLP</td>\n",
       "      <td>0.629</td>\n",
       "      <td>0.950</td>\n",
       "      <td>0.629</td>\n",
       "      <td>0.725</td>\n",
       "      <td>0.535</td>\n",
       "      <td>0.150</td>\n",
       "      <td>0.284</td>\n",
       "    </tr>\n",
       "    <tr>\n",
       "      <th>9</th>\n",
       "      <td>DecisionTree</td>\n",
       "      <td>0.800</td>\n",
       "      <td>0.833</td>\n",
       "      <td>0.800</td>\n",
       "      <td>0.800</td>\n",
       "      <td>1.000</td>\n",
       "      <td>0.608</td>\n",
       "      <td>0.633</td>\n",
       "    </tr>\n",
       "    <tr>\n",
       "      <th>10</th>\n",
       "      <td>Stack-Model</td>\n",
       "      <td>0.886</td>\n",
       "      <td>0.890</td>\n",
       "      <td>0.886</td>\n",
       "      <td>0.885</td>\n",
       "      <td>1.000</td>\n",
       "      <td>0.770</td>\n",
       "      <td>0.776</td>\n",
       "    </tr>\n",
       "    <tr>\n",
       "      <th>11</th>\n",
       "      <td>Voting Classifier</td>\n",
       "      <td>1.000</td>\n",
       "      <td>1.000</td>\n",
       "      <td>1.000</td>\n",
       "      <td>1.000</td>\n",
       "      <td>0.889</td>\n",
       "      <td>1.000</td>\n",
       "      <td>1.000</td>\n",
       "    </tr>\n",
       "  </tbody>\n",
       "</table>\n",
       "</div>"
      ],
      "text/plain": [
       "                      ML Model  Accuracy  Precision  Recall  F1_score  \\\n",
       "0                Random Forest     0.914      0.915   0.914     0.914   \n",
       "1           LogisticRegression     0.857      0.893   0.857     0.857   \n",
       "2   LinearDiscriminantAnalysis     0.800      0.810   0.800     0.799   \n",
       "3                   GaussianNB     0.829      0.850   0.829     0.828   \n",
       "4                    ExtraTree     0.743      0.774   0.743     0.743   \n",
       "5                      XGBoost     0.829      0.880   0.829     0.829   \n",
       "6                          KNN     0.829      0.832   0.829     0.828   \n",
       "7                          SVM     0.429      1.000   0.429     0.600   \n",
       "8                          MLP     0.629      0.950   0.629     0.725   \n",
       "9                 DecisionTree     0.800      0.833   0.800     0.800   \n",
       "10                 Stack-Model     0.886      0.890   0.886     0.885   \n",
       "11           Voting Classifier     1.000      1.000   1.000     1.000   \n",
       "\n",
       "    AUC Score  Cohen-Kappa    MCC  \n",
       "0       1.000        0.826  0.828  \n",
       "1       0.944        0.720  0.750  \n",
       "2       0.953        0.602  0.611  \n",
       "3       0.921        0.661  0.679  \n",
       "4       1.000        0.496  0.517  \n",
       "5       1.000        0.667  0.707  \n",
       "6       0.950        0.656  0.660  \n",
       "7       1.000        0.000  0.000  \n",
       "8       0.535        0.150  0.284  \n",
       "9       1.000        0.608  0.633  \n",
       "10      1.000        0.770  0.776  \n",
       "11      0.889        1.000  1.000  "
      ]
     },
     "execution_count": 77,
     "metadata": {},
     "output_type": "execute_result"
    }
   ],
   "source": [
    "result"
   ]
  },
  {
   "cell_type": "markdown",
   "id": "a481aefe",
   "metadata": {},
   "source": [
    "# Graph"
   ]
  },
  {
   "cell_type": "code",
   "execution_count": 78,
   "id": "85640d9d",
   "metadata": {},
   "outputs": [],
   "source": [
    "classifier = ML_Model\n",
    "y_pos = np.arange(len(classifier))"
   ]
  },
  {
   "cell_type": "markdown",
   "id": "d004f015",
   "metadata": {},
   "source": [
    "# Accuracy"
   ]
  },
  {
   "cell_type": "code",
   "execution_count": 79,
   "id": "9ff23696",
   "metadata": {},
   "outputs": [
    {
     "data": {
      "image/png": "[encoded data removed]",
      "text/plain": [
       "<Figure size 640x480 with 1 Axes>"
      ]
     },
     "metadata": {},
     "output_type": "display_data"
    }
   ],
   "source": [
    "import matplotlib.pyplot as plt2\n",
    "plt2.barh(y_pos, accuracy, align='center', alpha=0.5,color='blue')\n",
    "plt2.yticks(y_pos, classifier)\n",
    "plt2.xlabel('Accuracy Score')\n",
    "plt2.title('Classification Performance')\n",
    "plt2.show()"
   ]
  },
  {
   "cell_type": "markdown",
   "id": "6fcd7778",
   "metadata": {},
   "source": [
    "# Precision"
   ]
  },
  {
   "cell_type": "code",
   "execution_count": 80,
   "id": "7b9fdec5",
   "metadata": {},
   "outputs": [
    {
     "data": {
      "image/png": "[encoded data removed]",
      "text/plain": [
       "<Figure size 640x480 with 1 Axes>"
      ]
     },
     "metadata": {},
     "output_type": "display_data"
    }
   ],
   "source": [
    "import matplotlib.pyplot as plt2\n",
    "plt2.barh(y_pos, precision, align='center', alpha=0.5,color='red')\n",
    "plt2.yticks(y_pos, classifier)\n",
    "plt2.xlabel('Precision Score')\n",
    "plt2.title('Classification Performance')\n",
    "plt2.show()"
   ]
  },
  {
   "cell_type": "markdown",
   "id": "e41d653b",
   "metadata": {},
   "source": [
    "# Recall"
   ]
  },
  {
   "cell_type": "code",
   "execution_count": 81,
   "id": "8cfefe0f",
   "metadata": {},
   "outputs": [
    {
     "data": {
      "image/png": "[encoded data removed]",
      "text/plain": [
       "<Figure size 640x480 with 1 Axes>"
      ]
     },
     "metadata": {},
     "output_type": "display_data"
    }
   ],
   "source": [
    "import matplotlib.pyplot as plt2\n",
    "plt2.barh(y_pos, recall, align='center', alpha=0.5,color='yellow')\n",
    "plt2.yticks(y_pos, classifier)\n",
    "plt2.xlabel('Recall Score')\n",
    "plt2.title('Classification Performance')\n",
    "plt2.show()"
   ]
  },
  {
   "cell_type": "markdown",
   "id": "a6134c14",
   "metadata": {},
   "source": [
    "# F1 SCore"
   ]
  },
  {
   "cell_type": "code",
   "execution_count": 82,
   "id": "b4f9e5c9",
   "metadata": {},
   "outputs": [
    {
     "data": {
      "image/png": "[encoded data removed]",
      "text/plain": [
       "<Figure size 640x480 with 1 Axes>"
      ]
     },
     "metadata": {},
     "output_type": "display_data"
    }
   ],
   "source": [
    "import matplotlib.pyplot as plt2\n",
    "plt2.barh(y_pos, f1score, align='center', alpha=0.5,color='magenta')\n",
    "plt2.yticks(y_pos, classifier)\n",
    "plt2.xlabel('F1 Score')\n",
    "plt2.title('Classification Performance')\n",
    "plt2.show()"
   ]
  },
  {
   "cell_type": "markdown",
   "id": "75f31350",
   "metadata": {},
   "source": [
    "# AUC Score"
   ]
  },
  {
   "cell_type": "code",
   "execution_count": 83,
   "id": "d5b5a6cb",
   "metadata": {},
   "outputs": [
    {
     "data": {
      "image/png": "[encoded data removed]",
      "text/plain": [
       "<Figure size 640x480 with 1 Axes>"
      ]
     },
     "metadata": {},
     "output_type": "display_data"
    }
   ],
   "source": [
    "import matplotlib.pyplot as plt2\n",
    "plt2.barh(y_pos, auc, align='center', alpha=0.5,color='orange')\n",
    "plt2.yticks(y_pos, classifier)\n",
    "plt2.xlabel('AUC Score')\n",
    "plt2.title('Classification Performance')\n",
    "plt2.show()"
   ]
  },
  {
   "cell_type": "markdown",
   "id": "71dd4a24",
   "metadata": {},
   "source": [
    "# Cohen Kappa"
   ]
  },
  {
   "cell_type": "code",
   "execution_count": 84,
   "id": "166a2410",
   "metadata": {},
   "outputs": [
    {
     "data": {
      "image/png": "[encoded data removed]",
      "text/plain": [
       "<Figure size 640x480 with 1 Axes>"
      ]
     },
     "metadata": {},
     "output_type": "display_data"
    }
   ],
   "source": [
    "import matplotlib.pyplot as plt2\n",
    "plt2.barh(y_pos, coh, align='center', alpha=0.5,color='purple')\n",
    "plt2.yticks(y_pos, classifier)\n",
    "plt2.xlabel('Specificity Score')\n",
    "plt2.title('Classification Performance')\n",
    "plt2.show()"
   ]
  },
  {
   "cell_type": "markdown",
   "id": "380c1afc",
   "metadata": {},
   "source": [
    "# MCC"
   ]
  },
  {
   "cell_type": "code",
   "execution_count": 85,
   "id": "4f28dc55",
   "metadata": {},
   "outputs": [
    {
     "data": {
      "image/png": "[encoded data removed]",
      "text/plain": [
       "<Figure size 640x480 with 1 Axes>"
      ]
     },
     "metadata": {},
     "output_type": "display_data"
    }
   ],
   "source": [
    "import matplotlib.pyplot as plt2\n",
    "plt2.barh(y_pos, mcc, align='center', alpha=0.5,color='navy')\n",
    "plt2.yticks(y_pos, classifier)\n",
    "plt2.xlabel('Senseitivity Score')\n",
    "plt2.title('Classification Performance')\n",
    "plt2.show()"
   ]
  },
  {
   "cell_type": "markdown",
   "id": "e2b52062",
   "metadata": {},
   "source": [
    "# Modelling"
   ]
  },
  {
   "cell_type": "code",
   "execution_count": 86,
   "id": "6280b7ff",
   "metadata": {},
   "outputs": [
    {
     "data": {
      "text/plain": [
       "['model_anova.sav']"
      ]
     },
     "execution_count": 86,
     "metadata": {},
     "output_type": "execute_result"
    }
   ],
   "source": [
    "import joblib\n",
    "filename = 'model_anova.sav'\n",
    "joblib.dump(model, filename)"
   ]
  },
  {
   "cell_type": "code",
   "execution_count": null,
   "id": "1ee766fb",
   "metadata": {},
   "outputs": [],
   "source": []
  }
 ],
 "metadata": {
  "kernelspec": {
   "display_name": "Python 3 (ipykernel)",
   "language": "python",
   "name": "python3"
  },
  "language_info": {
   "codemirror_mode": {
    "name": "ipython",
    "version": 3
   },
   "file_extension": ".py",
   "mimetype": "text/x-python",
   "name": "python",
   "nbconvert_exporter": "python",
   "pygments_lexer": "ipython3",
   "version": "3.10.9"
  }
 },
 "nbformat": 4,
 "nbformat_minor": 5
}
